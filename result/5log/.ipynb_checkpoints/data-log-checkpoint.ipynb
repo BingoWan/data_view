{
 "cells": [
  {
   "cell_type": "code",
   "execution_count": 34,
   "metadata": {
    "collapsed": false
   },
   "outputs": [],
   "source": [
    "import re\n",
    "def data_hz():\n",
    "    with open('./hz_log_raw') as files:\n",
    "        f = files.readlines()\n",
    "        dataset = []\n",
    "        for data in f:\n",
    "            dataset.append(float(re.split(' ', data)[-1].strip('\\n')))\n",
    "        fw = open('./hz1.dat','w')\n",
    "        for i in range(7):\n",
    "            fw.write('%s   %10s\\n'% (dataset[i], dataset[i+7]))   \n",
    "        fw.close()\n",
    "data_hz()\n",
    "\n",
    "def data_jx():\n",
    "    with open('./jx_log_raw') as files:\n",
    "        f = files.readlines()\n",
    "        dataset = []\n",
    "        fw = open('./jx2.dat', 'w')\n",
    "        for data in f:\n",
    "            usage = re.split('Used=|Used%=', data)[1].strip(' ')\n",
    "            used = re.split('Used=|Used%=', data)[2].strip('%|\\n')\n",
    "            fw.write('%s  %10s\\n'%(usage, used))        \n",
    "data_jx()"
   ]
  },
  {
   "cell_type": "code",
   "execution_count": null,
   "metadata": {
    "collapsed": true
   },
   "outputs": [],
   "source": []
  }
 ],
 "metadata": {
  "kernelspec": {
   "display_name": "Python 2",
   "language": "python",
   "name": "python2"
  },
  "language_info": {
   "codemirror_mode": {
    "name": "ipython",
    "version": 2
   },
   "file_extension": ".py",
   "mimetype": "text/x-python",
   "name": "python",
   "nbconvert_exporter": "python",
   "pygments_lexer": "ipython2",
   "version": "2.7.13"
  }
 },
 "nbformat": 4,
 "nbformat_minor": 0
}
