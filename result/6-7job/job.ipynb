{
 "cells": [
  {
   "cell_type": "code",
   "execution_count": 1,
   "metadata": {
    "collapsed": false
   },
   "outputs": [],
   "source": [
    "import re\n",
    "def data_joblog(s):\n",
    "    with open('./%s_raw'%s) as files:\n",
    "        f = files.readlines()\n",
    "        dataset = []\n",
    "        for data in f:\n",
    "            d = re.split(':|,', data)[1].strip('T| \\n')\n",
    "            dataset.append(float(d))\n",
    "        fw = open('./%s1.dat'%s, 'w')\n",
    "        for i in range(7):\n",
    "            fw.write('%s   %10s\\n'%(dataset[6-i], dataset[13-i]))\n",
    "namelist = ['hz', 'jx']\n",
    "for name in namelist:\n",
    "    data_joblog(name)\n",
    "            "
   ]
  },
  {
   "cell_type": "code",
   "execution_count": null,
   "metadata": {
    "collapsed": true
   },
   "outputs": [],
   "source": []
  }
 ],
 "metadata": {
  "kernelspec": {
   "display_name": "Python 2",
   "language": "python",
   "name": "python2"
  },
  "language_info": {
   "codemirror_mode": {
    "name": "ipython",
    "version": 2
   },
   "file_extension": ".py",
   "mimetype": "text/x-python",
   "name": "python",
   "nbconvert_exporter": "python",
   "pygments_lexer": "ipython2",
   "version": "2.7.13"
  }
 },
 "nbformat": 4,
 "nbformat_minor": 0
}
