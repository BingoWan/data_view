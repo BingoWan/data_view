{
 "cells": [
  {
   "cell_type": "code",
   "execution_count": 16,
   "metadata": {
    "collapsed": false
   },
   "outputs": [
    {
     "name": "stdout",
     "output_type": "stream",
     "text": [
      "[54.6036, 55.8197, 54.6657, 53.3013, 56.1575, 54.147, 51.5024, 1.0, 1.0, 1.0, 10.0, 6.0, 40.0, 6.0]\n",
      "[53.7551, 55.0147, 53.778, 52.2977, 55.0491, 53.1249, 50.6924, 512.0, 161.0, 182.0, 239.0, 111.0, 147.0, 116.0, 22.0, 0.0, 0.0]\n"
     ]
    }
   ],
   "source": [
    "import re\n",
    "def data_joblog(s):\n",
    "    with open('./%s_raw'%s) as files:\n",
    "        f = files.readlines()\n",
    "        dataset = []\n",
    "        for data in f:\n",
    "            d = re.split(':|,', data)[1].strip('T| \\n')\n",
    "            dataset.append(float(d))\n",
    "        fw = open('./%s1.dat'%s, 'w')\n",
    "        for i in range(7):\n",
    "            fw.write('%s   %10s\\n'%(dataset[6-i], dataset[13-i]))\n",
    "namelist = ['hz', 'jx']\n",
    "for name in namelist:\n",
    "    data_joblog(name)\n",
    "            "
   ]
  },
  {
   "cell_type": "code",
   "execution_count": null,
   "metadata": {
    "collapsed": true
   },
   "outputs": [],
   "source": []
  }
 ],
 "metadata": {
  "kernelspec": {
   "display_name": "Python 2",
   "language": "python",
   "name": "python2"
  },
  "language_info": {
   "codemirror_mode": {
    "name": "ipython",
    "version": 2
   },
   "file_extension": ".py",
   "mimetype": "text/x-python",
   "name": "python",
   "nbconvert_exporter": "python",
   "pygments_lexer": "ipython2",
   "version": "2.7.13"
  }
 },
 "nbformat": 4,
 "nbformat_minor": 0
}
